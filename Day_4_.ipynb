{
 "cells": [
  {
   "cell_type": "code",
   "execution_count": null,
   "id": "b7cdaf86-8a23-4ff8-9bba-86c96bc85969",
   "metadata": {},
   "outputs": [],
   "source": [
    "Introduction to list datatype:"
   ]
  },
  {
   "cell_type": "code",
   "execution_count": null,
   "id": "52e6d6db-5245-4eed-9ec3-f3b57e95b4e7",
   "metadata": {},
   "outputs": [],
   "source": [
    "Def: A list a collection of items declared in a particular order\n",
    "\n",
    "Classification : it is classsified as a mutable datatypes\n",
    "\n",
    "How to define / declare the list datatype... [ ]"
   ]
  },
  {
   "cell_type": "code",
   "execution_count": null,
   "id": "8862eaa0-d223-452c-9dfb-4d1094efbf5e",
   "metadata": {},
   "outputs": [],
   "source": []
  },
  {
   "cell_type": "code",
   "execution_count": 2,
   "id": "8eb543f8-86f7-4f5d-8518-cabbe11c7e23",
   "metadata": {},
   "outputs": [],
   "source": [
    "students = ['afsha','pradeep','naveen','prakash', 'muskan','abdul']"
   ]
  },
  {
   "cell_type": "code",
   "execution_count": 3,
   "id": "55b5d660-6fcc-4904-9981-326d60a3285a",
   "metadata": {},
   "outputs": [
    {
     "name": "stdout",
     "output_type": "stream",
     "text": [
      "['afsha', 'pradeep', 'naveen', 'prakash', 'muskan', 'abdul']\n"
     ]
    }
   ],
   "source": [
    "print(students)"
   ]
  },
  {
   "cell_type": "code",
   "execution_count": 4,
   "id": "d217e6a0-4cd7-4ed0-b36f-dc98b7c1438e",
   "metadata": {},
   "outputs": [
    {
     "data": {
      "text/plain": [
       "list"
      ]
     },
     "execution_count": 4,
     "metadata": {},
     "output_type": "execute_result"
    }
   ],
   "source": [
    "type(students)"
   ]
  },
  {
   "cell_type": "code",
   "execution_count": null,
   "id": "d74fcb95-644e-40a5-b8de-bf9170fda6a8",
   "metadata": {},
   "outputs": [],
   "source": [
    "Intoduction to the indexing : Indexing will be statrted from 0 value onwards."
   ]
  },
  {
   "cell_type": "code",
   "execution_count": null,
   "id": "8ba40a49-c1b4-45ab-9910-0c082a069831",
   "metadata": {},
   "outputs": [],
   "source": [
    "#req : I wanted to get pradeepa name in the output ..."
   ]
  },
  {
   "cell_type": "code",
   "execution_count": 6,
   "id": "ad473dcf-2598-44d6-88a3-40a28aadd129",
   "metadata": {},
   "outputs": [
    {
     "name": "stdout",
     "output_type": "stream",
     "text": [
      "pradeep\n"
     ]
    }
   ],
   "source": [
    "print(students[1])"
   ]
  },
  {
   "cell_type": "code",
   "execution_count": 9,
   "id": "e2a27d31-7bdf-42b9-9b6b-05b085ac2dcf",
   "metadata": {},
   "outputs": [
    {
     "name": "stdout",
     "output_type": "stream",
     "text": [
      "Pradeep\n"
     ]
    }
   ],
   "source": [
    "print(students[1].title())"
   ]
  },
  {
   "cell_type": "code",
   "execution_count": 10,
   "id": "90ff4316-b20d-4c68-a62a-0adbd9b6a423",
   "metadata": {},
   "outputs": [],
   "source": [
    "# req : I want to prakash name in the list ..."
   ]
  },
  {
   "cell_type": "code",
   "execution_count": 13,
   "id": "037fa576-dfc6-498c-aaae-e455ee7cd55d",
   "metadata": {},
   "outputs": [
    {
     "name": "stdout",
     "output_type": "stream",
     "text": [
      "Prakash\n"
     ]
    }
   ],
   "source": [
    "print(students[3].title())"
   ]
  },
  {
   "cell_type": "code",
   "execution_count": null,
   "id": "4e21389a-e12c-40c9-b1b0-901d7a854a41",
   "metadata": {},
   "outputs": [],
   "source": [
    "1. How to add new elements to the list\n",
    "2. How to delet elements from the list\n",
    "3. How to modify elements from the list"
   ]
  },
  {
   "cell_type": "code",
   "execution_count": 14,
   "id": "021dcb1a-9374-4335-b441-45d3c30b56fd",
   "metadata": {},
   "outputs": [],
   "source": [
    "# req : I want to add joseph to the above list..."
   ]
  },
  {
   "cell_type": "code",
   "execution_count": 15,
   "id": "3b548ef2-afb0-433b-9756-0a0da743a1c1",
   "metadata": {},
   "outputs": [],
   "source": [
    "students.append('jpseph')"
   ]
  },
  {
   "cell_type": "code",
   "execution_count": 16,
   "id": "a6ed2723-9920-4a13-b2cc-48365a4cd6dc",
   "metadata": {},
   "outputs": [
    {
     "name": "stdout",
     "output_type": "stream",
     "text": [
      "['afsha', 'pradeep', 'naveen', 'prakash', 'muskan', 'abdul', 'jpseph']\n"
     ]
    }
   ],
   "source": [
    "print(students)"
   ]
  },
  {
   "cell_type": "code",
   "execution_count": 17,
   "id": "014637fb-225b-4634-ba9d-c04d85a734af",
   "metadata": {},
   "outputs": [],
   "source": [
    "# req : I want to add santosh to the list ...|"
   ]
  },
  {
   "cell_type": "code",
   "execution_count": 18,
   "id": "db9b5203-b835-42dc-b95a-a676e8df5f86",
   "metadata": {},
   "outputs": [],
   "source": [
    "students.append('santosh')"
   ]
  },
  {
   "cell_type": "code",
   "execution_count": 19,
   "id": "92d93291-d7bd-463f-b8eb-d4c49ed94b02",
   "metadata": {},
   "outputs": [],
   "source": [
    "# req : I want to add afreen to the list   in the 2 index position"
   ]
  },
  {
   "cell_type": "code",
   "execution_count": 21,
   "id": "3860464d-a9c2-4930-a90b-d1b76b9b3ef4",
   "metadata": {},
   "outputs": [],
   "source": [
    "students.insert(2,'afreen')"
   ]
  },
  {
   "cell_type": "code",
   "execution_count": null,
   "id": "e9777a5d-419f-41d5-b0ab-ef33e41ff9fe",
   "metadata": {},
   "outputs": [],
   "source": [
    "interview question : differnce between append and insert method in the list?"
   ]
  },
  {
   "cell_type": "code",
   "execution_count": 22,
   "id": "48de80cc-6415-4a50-bbef-e5ac4148b935",
   "metadata": {},
   "outputs": [],
   "source": [
    "# req : I want to modify afsha name in the list to sonam"
   ]
  },
  {
   "cell_type": "code",
   "execution_count": 23,
   "id": "8bc2e49e-6670-4369-b5e9-13cfc97f9e29",
   "metadata": {},
   "outputs": [],
   "source": [
    "students[0] = 'sonam'"
   ]
  },
  {
   "cell_type": "code",
   "execution_count": 24,
   "id": "00965dda-af7d-40c8-8b94-0d1b2981ab8f",
   "metadata": {},
   "outputs": [
    {
     "name": "stdout",
     "output_type": "stream",
     "text": [
      "['sonam', 'pradeep', 'afreen', 'afreen|', 'naveen', 'prakash', 'muskan', 'abdul', 'jpseph', 'santosh']\n"
     ]
    }
   ],
   "source": [
    "print(students)"
   ]
  },
  {
   "cell_type": "code",
   "execution_count": null,
   "id": "205b6409-cb4a-4262-9a30-ef4b27cf4d1f",
   "metadata": {},
   "outputs": [],
   "source": []
  }
 ],
 "metadata": {
  "kernelspec": {
   "display_name": "Python 3 (ipykernel)",
   "language": "python",
   "name": "python3"
  },
  "language_info": {
   "codemirror_mode": {
    "name": "ipython",
    "version": 3
   },
   "file_extension": ".py",
   "mimetype": "text/x-python",
   "name": "python",
   "nbconvert_exporter": "python",
   "pygments_lexer": "ipython3",
   "version": "3.11.7"
  }
 },
 "nbformat": 4,
 "nbformat_minor": 5
}
